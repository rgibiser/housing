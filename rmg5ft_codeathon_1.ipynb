{
  "nbformat": 4,
  "nbformat_minor": 0,
  "metadata": {
    "colab": {
      "name": "rmg5ft_codeathon_1.ipynb",
      "provenance": [],
      "collapsed_sections": [],
      "toc_visible": true
    },
    "kernelspec": {
      "name": "python3",
      "display_name": "Python 3"
    }
  },
  "cells": [
    {
      "cell_type": "markdown",
      "metadata": {
        "id": "X3c4B4h7PTxe",
        "colab_type": "text"
      },
      "source": [
        "# Codeathon 1 — Predicting Boston Housing Prices\n",
        "\n",
        "by Ryan Gibiser (rmg5ft)"
      ]
    },
    {
      "cell_type": "markdown",
      "metadata": {
        "id": "bY9jM7-fEnsv",
        "colab_type": "text"
      },
      "source": [
        "# 1. Setup"
      ]
    },
    {
      "cell_type": "code",
      "metadata": {
        "id": "qW6z_H3mEmYH",
        "colab_type": "code",
        "colab": {}
      },
      "source": [
        "# Library imports\n",
        "import sklearn\n",
        "import numpy as np\n",
        "import pandas as pd\n",
        "import os\n",
        "\n",
        "# random seed to make this notebook's output stable across runs\n",
        "SEED = 49\n",
        "np.random.seed(SEED)"
      ],
      "execution_count": 1246,
      "outputs": []
    },
    {
      "cell_type": "markdown",
      "metadata": {
        "id": "jrBJNypfYK2I",
        "colab_type": "text"
      },
      "source": [
        "# 2. Getting the Data"
      ]
    },
    {
      "cell_type": "markdown",
      "metadata": {
        "id": "slDPugTTGMZ8",
        "colab_type": "text"
      },
      "source": [
        "Each record in the database describes a Boston suburb or town. The data was drawn from the Boston Standard Metropolitan Statistical Area (SMSA) in 1970. The attributes are deﬁned as follows (taken from the UCI Machine Learning Repository1)\n",
        "\n",
        "**Description of the Data Columns:**\n",
        "\n",
        "*   CRIM - per capita crime rate by town\n",
        "*   ZN - proportion of residential land zoned for lots over 25,000 sq.ft.\n",
        "*   INDUS - proportion of non-retail business acres per town\n",
        "*   CHAS - Charles River dummy variable (= 1 if tract bounds river; 0 otherwise)\n",
        "*   NOX - nitric oxide concentration (parts per 10 million)\n",
        "*   RM - average number of rooms per dwelling\n",
        "*   AGE - proportion of owner-occupied units built prior to 1940\n",
        "*   DIS - weighted distances to five Boston employment centres\n",
        "*   RAD - index of accessibility to radial highways\n",
        "*   TAX - full-value property-tax rate per \\$10,000\n",
        "*   PTRATIO - pupil-teacher ratio by town\n",
        "*   B - 1000(Bk - 0.63)^2 where Bk is the proportion of blacks by town\n",
        "*   LSTAT - % lower status of the population\n",
        "*   MEDV - Median value of owner-occupied homes in \\$1000's (Target Value)\n",
        "\n"
      ]
    },
    {
      "cell_type": "code",
      "metadata": {
        "id": "A4lWQEcDILLe",
        "colab_type": "code",
        "colab": {
          "base_uri": "https://localhost:8080/",
          "height": 359
        },
        "outputId": "54ac3121-2026-4b8b-be3a-a452cea50e10"
      },
      "source": [
        "# Get housing.csv file from raw GitHub link\n",
        "URL = 'https://raw.githubusercontent.com/rgibiser/housing/master/housing.csv'\n",
        "\n",
        "# Load housing.csv into a pandas object called housing\n",
        "housing = pd.read_csv(URL, delim_whitespace=True)\n",
        "housing.head(10) # preview the data"
      ],
      "execution_count": 1247,
      "outputs": [
        {
          "output_type": "execute_result",
          "data": {
            "text/html": [
              "<div>\n",
              "<style scoped>\n",
              "    .dataframe tbody tr th:only-of-type {\n",
              "        vertical-align: middle;\n",
              "    }\n",
              "\n",
              "    .dataframe tbody tr th {\n",
              "        vertical-align: top;\n",
              "    }\n",
              "\n",
              "    .dataframe thead th {\n",
              "        text-align: right;\n",
              "    }\n",
              "</style>\n",
              "<table border=\"1\" class=\"dataframe\">\n",
              "  <thead>\n",
              "    <tr style=\"text-align: right;\">\n",
              "      <th></th>\n",
              "      <th>CRIM</th>\n",
              "      <th>ZN</th>\n",
              "      <th>INDUS</th>\n",
              "      <th>CHAS</th>\n",
              "      <th>NOX</th>\n",
              "      <th>RM</th>\n",
              "      <th>AGE</th>\n",
              "      <th>DIS</th>\n",
              "      <th>RAD</th>\n",
              "      <th>TAX</th>\n",
              "      <th>PTRATIO</th>\n",
              "      <th>B</th>\n",
              "      <th>LSTAT</th>\n",
              "      <th>MEDV</th>\n",
              "    </tr>\n",
              "  </thead>\n",
              "  <tbody>\n",
              "    <tr>\n",
              "      <th>0</th>\n",
              "      <td>0.00632</td>\n",
              "      <td>18.0</td>\n",
              "      <td>2.31</td>\n",
              "      <td>0</td>\n",
              "      <td>0.538</td>\n",
              "      <td>6.575</td>\n",
              "      <td>65.2</td>\n",
              "      <td>4.0900</td>\n",
              "      <td>1</td>\n",
              "      <td>296.0</td>\n",
              "      <td>15.3</td>\n",
              "      <td>396.90</td>\n",
              "      <td>4.98</td>\n",
              "      <td>24.0</td>\n",
              "    </tr>\n",
              "    <tr>\n",
              "      <th>1</th>\n",
              "      <td>0.02731</td>\n",
              "      <td>0.0</td>\n",
              "      <td>7.07</td>\n",
              "      <td>0</td>\n",
              "      <td>0.469</td>\n",
              "      <td>6.421</td>\n",
              "      <td>78.9</td>\n",
              "      <td>4.9671</td>\n",
              "      <td>2</td>\n",
              "      <td>242.0</td>\n",
              "      <td>17.8</td>\n",
              "      <td>396.90</td>\n",
              "      <td>9.14</td>\n",
              "      <td>21.6</td>\n",
              "    </tr>\n",
              "    <tr>\n",
              "      <th>2</th>\n",
              "      <td>0.02729</td>\n",
              "      <td>0.0</td>\n",
              "      <td>7.07</td>\n",
              "      <td>0</td>\n",
              "      <td>0.469</td>\n",
              "      <td>7.185</td>\n",
              "      <td>61.1</td>\n",
              "      <td>4.9671</td>\n",
              "      <td>2</td>\n",
              "      <td>242.0</td>\n",
              "      <td>17.8</td>\n",
              "      <td>392.83</td>\n",
              "      <td>4.03</td>\n",
              "      <td>34.7</td>\n",
              "    </tr>\n",
              "    <tr>\n",
              "      <th>3</th>\n",
              "      <td>0.03237</td>\n",
              "      <td>0.0</td>\n",
              "      <td>2.18</td>\n",
              "      <td>0</td>\n",
              "      <td>0.458</td>\n",
              "      <td>6.998</td>\n",
              "      <td>45.8</td>\n",
              "      <td>6.0622</td>\n",
              "      <td>3</td>\n",
              "      <td>222.0</td>\n",
              "      <td>18.7</td>\n",
              "      <td>394.63</td>\n",
              "      <td>2.94</td>\n",
              "      <td>33.4</td>\n",
              "    </tr>\n",
              "    <tr>\n",
              "      <th>4</th>\n",
              "      <td>0.06905</td>\n",
              "      <td>0.0</td>\n",
              "      <td>2.18</td>\n",
              "      <td>0</td>\n",
              "      <td>0.458</td>\n",
              "      <td>7.147</td>\n",
              "      <td>54.2</td>\n",
              "      <td>6.0622</td>\n",
              "      <td>3</td>\n",
              "      <td>222.0</td>\n",
              "      <td>18.7</td>\n",
              "      <td>396.90</td>\n",
              "      <td>5.33</td>\n",
              "      <td>36.2</td>\n",
              "    </tr>\n",
              "    <tr>\n",
              "      <th>5</th>\n",
              "      <td>0.02985</td>\n",
              "      <td>0.0</td>\n",
              "      <td>2.18</td>\n",
              "      <td>0</td>\n",
              "      <td>0.458</td>\n",
              "      <td>6.430</td>\n",
              "      <td>58.7</td>\n",
              "      <td>6.0622</td>\n",
              "      <td>3</td>\n",
              "      <td>222.0</td>\n",
              "      <td>18.7</td>\n",
              "      <td>394.12</td>\n",
              "      <td>5.21</td>\n",
              "      <td>28.7</td>\n",
              "    </tr>\n",
              "    <tr>\n",
              "      <th>6</th>\n",
              "      <td>0.08829</td>\n",
              "      <td>12.5</td>\n",
              "      <td>7.87</td>\n",
              "      <td>0</td>\n",
              "      <td>0.524</td>\n",
              "      <td>6.012</td>\n",
              "      <td>66.6</td>\n",
              "      <td>5.5605</td>\n",
              "      <td>5</td>\n",
              "      <td>311.0</td>\n",
              "      <td>15.2</td>\n",
              "      <td>395.60</td>\n",
              "      <td>12.43</td>\n",
              "      <td>22.9</td>\n",
              "    </tr>\n",
              "    <tr>\n",
              "      <th>7</th>\n",
              "      <td>0.14455</td>\n",
              "      <td>12.5</td>\n",
              "      <td>7.87</td>\n",
              "      <td>0</td>\n",
              "      <td>0.524</td>\n",
              "      <td>6.172</td>\n",
              "      <td>96.1</td>\n",
              "      <td>5.9505</td>\n",
              "      <td>5</td>\n",
              "      <td>311.0</td>\n",
              "      <td>15.2</td>\n",
              "      <td>396.90</td>\n",
              "      <td>19.15</td>\n",
              "      <td>27.1</td>\n",
              "    </tr>\n",
              "    <tr>\n",
              "      <th>8</th>\n",
              "      <td>0.21124</td>\n",
              "      <td>12.5</td>\n",
              "      <td>7.87</td>\n",
              "      <td>0</td>\n",
              "      <td>0.524</td>\n",
              "      <td>5.631</td>\n",
              "      <td>100.0</td>\n",
              "      <td>6.0821</td>\n",
              "      <td>5</td>\n",
              "      <td>311.0</td>\n",
              "      <td>15.2</td>\n",
              "      <td>386.63</td>\n",
              "      <td>29.93</td>\n",
              "      <td>16.5</td>\n",
              "    </tr>\n",
              "    <tr>\n",
              "      <th>9</th>\n",
              "      <td>0.17004</td>\n",
              "      <td>12.5</td>\n",
              "      <td>7.87</td>\n",
              "      <td>0</td>\n",
              "      <td>0.524</td>\n",
              "      <td>6.004</td>\n",
              "      <td>85.9</td>\n",
              "      <td>6.5921</td>\n",
              "      <td>5</td>\n",
              "      <td>311.0</td>\n",
              "      <td>15.2</td>\n",
              "      <td>386.71</td>\n",
              "      <td>17.10</td>\n",
              "      <td>18.9</td>\n",
              "    </tr>\n",
              "  </tbody>\n",
              "</table>\n",
              "</div>"
            ],
            "text/plain": [
              "      CRIM    ZN  INDUS  CHAS    NOX  ...    TAX  PTRATIO       B  LSTAT  MEDV\n",
              "0  0.00632  18.0   2.31     0  0.538  ...  296.0     15.3  396.90   4.98  24.0\n",
              "1  0.02731   0.0   7.07     0  0.469  ...  242.0     17.8  396.90   9.14  21.6\n",
              "2  0.02729   0.0   7.07     0  0.469  ...  242.0     17.8  392.83   4.03  34.7\n",
              "3  0.03237   0.0   2.18     0  0.458  ...  222.0     18.7  394.63   2.94  33.4\n",
              "4  0.06905   0.0   2.18     0  0.458  ...  222.0     18.7  396.90   5.33  36.2\n",
              "5  0.02985   0.0   2.18     0  0.458  ...  222.0     18.7  394.12   5.21  28.7\n",
              "6  0.08829  12.5   7.87     0  0.524  ...  311.0     15.2  395.60  12.43  22.9\n",
              "7  0.14455  12.5   7.87     0  0.524  ...  311.0     15.2  396.90  19.15  27.1\n",
              "8  0.21124  12.5   7.87     0  0.524  ...  311.0     15.2  386.63  29.93  16.5\n",
              "9  0.17004  12.5   7.87     0  0.524  ...  311.0     15.2  386.71  17.10  18.9\n",
              "\n",
              "[10 rows x 14 columns]"
            ]
          },
          "metadata": {
            "tags": []
          },
          "execution_count": 1247
        }
      ]
    },
    {
      "cell_type": "code",
      "metadata": {
        "id": "4lez8hHIYMwY",
        "colab_type": "code",
        "colab": {
          "base_uri": "https://localhost:8080/",
          "height": 374
        },
        "outputId": "d3a9dca5-f3c5-4739-a671-022774a47836"
      },
      "source": [
        "# Provide a quick summary of the data including name of features, count, and type\n",
        "housing.info()"
      ],
      "execution_count": 1248,
      "outputs": [
        {
          "output_type": "stream",
          "text": [
            "<class 'pandas.core.frame.DataFrame'>\n",
            "RangeIndex: 506 entries, 0 to 505\n",
            "Data columns (total 14 columns):\n",
            " #   Column   Non-Null Count  Dtype  \n",
            "---  ------   --------------  -----  \n",
            " 0   CRIM     506 non-null    float64\n",
            " 1   ZN       506 non-null    float64\n",
            " 2   INDUS    506 non-null    float64\n",
            " 3   CHAS     506 non-null    int64  \n",
            " 4   NOX      506 non-null    float64\n",
            " 5   RM       506 non-null    float64\n",
            " 6   AGE      506 non-null    float64\n",
            " 7   DIS      506 non-null    float64\n",
            " 8   RAD      506 non-null    int64  \n",
            " 9   TAX      506 non-null    float64\n",
            " 10  PTRATIO  506 non-null    float64\n",
            " 11  B        506 non-null    float64\n",
            " 12  LSTAT    506 non-null    float64\n",
            " 13  MEDV     506 non-null    float64\n",
            "dtypes: float64(12), int64(2)\n",
            "memory usage: 55.5 KB\n"
          ],
          "name": "stdout"
        }
      ]
    },
    {
      "cell_type": "code",
      "metadata": {
        "id": "zGiGzgkge_Km",
        "colab_type": "code",
        "colab": {
          "base_uri": "https://localhost:8080/",
          "height": 297
        },
        "outputId": "0f66de31-4a94-4890-86b0-0ca220471912"
      },
      "source": [
        "# Display basic overview of the stats of the dataset\n",
        "housing.describe()"
      ],
      "execution_count": 1249,
      "outputs": [
        {
          "output_type": "execute_result",
          "data": {
            "text/html": [
              "<div>\n",
              "<style scoped>\n",
              "    .dataframe tbody tr th:only-of-type {\n",
              "        vertical-align: middle;\n",
              "    }\n",
              "\n",
              "    .dataframe tbody tr th {\n",
              "        vertical-align: top;\n",
              "    }\n",
              "\n",
              "    .dataframe thead th {\n",
              "        text-align: right;\n",
              "    }\n",
              "</style>\n",
              "<table border=\"1\" class=\"dataframe\">\n",
              "  <thead>\n",
              "    <tr style=\"text-align: right;\">\n",
              "      <th></th>\n",
              "      <th>CRIM</th>\n",
              "      <th>ZN</th>\n",
              "      <th>INDUS</th>\n",
              "      <th>CHAS</th>\n",
              "      <th>NOX</th>\n",
              "      <th>RM</th>\n",
              "      <th>AGE</th>\n",
              "      <th>DIS</th>\n",
              "      <th>RAD</th>\n",
              "      <th>TAX</th>\n",
              "      <th>PTRATIO</th>\n",
              "      <th>B</th>\n",
              "      <th>LSTAT</th>\n",
              "      <th>MEDV</th>\n",
              "    </tr>\n",
              "  </thead>\n",
              "  <tbody>\n",
              "    <tr>\n",
              "      <th>count</th>\n",
              "      <td>506.000000</td>\n",
              "      <td>506.000000</td>\n",
              "      <td>506.000000</td>\n",
              "      <td>506.000000</td>\n",
              "      <td>506.000000</td>\n",
              "      <td>506.000000</td>\n",
              "      <td>506.000000</td>\n",
              "      <td>506.000000</td>\n",
              "      <td>506.000000</td>\n",
              "      <td>506.000000</td>\n",
              "      <td>506.000000</td>\n",
              "      <td>506.000000</td>\n",
              "      <td>506.000000</td>\n",
              "      <td>506.000000</td>\n",
              "    </tr>\n",
              "    <tr>\n",
              "      <th>mean</th>\n",
              "      <td>3.613524</td>\n",
              "      <td>11.363636</td>\n",
              "      <td>11.136779</td>\n",
              "      <td>0.069170</td>\n",
              "      <td>0.554695</td>\n",
              "      <td>6.284634</td>\n",
              "      <td>68.574901</td>\n",
              "      <td>3.795043</td>\n",
              "      <td>9.549407</td>\n",
              "      <td>408.237154</td>\n",
              "      <td>18.455534</td>\n",
              "      <td>356.674032</td>\n",
              "      <td>12.653063</td>\n",
              "      <td>22.532806</td>\n",
              "    </tr>\n",
              "    <tr>\n",
              "      <th>std</th>\n",
              "      <td>8.601545</td>\n",
              "      <td>23.322453</td>\n",
              "      <td>6.860353</td>\n",
              "      <td>0.253994</td>\n",
              "      <td>0.115878</td>\n",
              "      <td>0.702617</td>\n",
              "      <td>28.148861</td>\n",
              "      <td>2.105710</td>\n",
              "      <td>8.707259</td>\n",
              "      <td>168.537116</td>\n",
              "      <td>2.164946</td>\n",
              "      <td>91.294864</td>\n",
              "      <td>7.141062</td>\n",
              "      <td>9.197104</td>\n",
              "    </tr>\n",
              "    <tr>\n",
              "      <th>min</th>\n",
              "      <td>0.006320</td>\n",
              "      <td>0.000000</td>\n",
              "      <td>0.460000</td>\n",
              "      <td>0.000000</td>\n",
              "      <td>0.385000</td>\n",
              "      <td>3.561000</td>\n",
              "      <td>2.900000</td>\n",
              "      <td>1.129600</td>\n",
              "      <td>1.000000</td>\n",
              "      <td>187.000000</td>\n",
              "      <td>12.600000</td>\n",
              "      <td>0.320000</td>\n",
              "      <td>1.730000</td>\n",
              "      <td>5.000000</td>\n",
              "    </tr>\n",
              "    <tr>\n",
              "      <th>25%</th>\n",
              "      <td>0.082045</td>\n",
              "      <td>0.000000</td>\n",
              "      <td>5.190000</td>\n",
              "      <td>0.000000</td>\n",
              "      <td>0.449000</td>\n",
              "      <td>5.885500</td>\n",
              "      <td>45.025000</td>\n",
              "      <td>2.100175</td>\n",
              "      <td>4.000000</td>\n",
              "      <td>279.000000</td>\n",
              "      <td>17.400000</td>\n",
              "      <td>375.377500</td>\n",
              "      <td>6.950000</td>\n",
              "      <td>17.025000</td>\n",
              "    </tr>\n",
              "    <tr>\n",
              "      <th>50%</th>\n",
              "      <td>0.256510</td>\n",
              "      <td>0.000000</td>\n",
              "      <td>9.690000</td>\n",
              "      <td>0.000000</td>\n",
              "      <td>0.538000</td>\n",
              "      <td>6.208500</td>\n",
              "      <td>77.500000</td>\n",
              "      <td>3.207450</td>\n",
              "      <td>5.000000</td>\n",
              "      <td>330.000000</td>\n",
              "      <td>19.050000</td>\n",
              "      <td>391.440000</td>\n",
              "      <td>11.360000</td>\n",
              "      <td>21.200000</td>\n",
              "    </tr>\n",
              "    <tr>\n",
              "      <th>75%</th>\n",
              "      <td>3.677082</td>\n",
              "      <td>12.500000</td>\n",
              "      <td>18.100000</td>\n",
              "      <td>0.000000</td>\n",
              "      <td>0.624000</td>\n",
              "      <td>6.623500</td>\n",
              "      <td>94.075000</td>\n",
              "      <td>5.188425</td>\n",
              "      <td>24.000000</td>\n",
              "      <td>666.000000</td>\n",
              "      <td>20.200000</td>\n",
              "      <td>396.225000</td>\n",
              "      <td>16.955000</td>\n",
              "      <td>25.000000</td>\n",
              "    </tr>\n",
              "    <tr>\n",
              "      <th>max</th>\n",
              "      <td>88.976200</td>\n",
              "      <td>100.000000</td>\n",
              "      <td>27.740000</td>\n",
              "      <td>1.000000</td>\n",
              "      <td>0.871000</td>\n",
              "      <td>8.780000</td>\n",
              "      <td>100.000000</td>\n",
              "      <td>12.126500</td>\n",
              "      <td>24.000000</td>\n",
              "      <td>711.000000</td>\n",
              "      <td>22.000000</td>\n",
              "      <td>396.900000</td>\n",
              "      <td>37.970000</td>\n",
              "      <td>50.000000</td>\n",
              "    </tr>\n",
              "  </tbody>\n",
              "</table>\n",
              "</div>"
            ],
            "text/plain": [
              "             CRIM          ZN       INDUS  ...           B       LSTAT        MEDV\n",
              "count  506.000000  506.000000  506.000000  ...  506.000000  506.000000  506.000000\n",
              "mean     3.613524   11.363636   11.136779  ...  356.674032   12.653063   22.532806\n",
              "std      8.601545   23.322453    6.860353  ...   91.294864    7.141062    9.197104\n",
              "min      0.006320    0.000000    0.460000  ...    0.320000    1.730000    5.000000\n",
              "25%      0.082045    0.000000    5.190000  ...  375.377500    6.950000   17.025000\n",
              "50%      0.256510    0.000000    9.690000  ...  391.440000   11.360000   21.200000\n",
              "75%      3.677082   12.500000   18.100000  ...  396.225000   16.955000   25.000000\n",
              "max     88.976200  100.000000   27.740000  ...  396.900000   37.970000   50.000000\n",
              "\n",
              "[8 rows x 14 columns]"
            ]
          },
          "metadata": {
            "tags": []
          },
          "execution_count": 1249
        }
      ]
    },
    {
      "cell_type": "code",
      "metadata": {
        "id": "bSQljdrHfGbR",
        "colab_type": "code",
        "colab": {
          "base_uri": "https://localhost:8080/",
          "height": 879
        },
        "outputId": "47c2f62c-459e-4a8d-b79c-118ed41db5f5"
      },
      "source": [
        "# Histograms of each data column\n",
        "%matplotlib inline\n",
        "import matplotlib.pyplot as plt\n",
        "housing.hist(bins=50, figsize=(20,15))\n",
        "plt.show()\n",
        "# Observe each feature and decide which one to use"
      ],
      "execution_count": 1250,
      "outputs": [
        {
          "output_type": "display_data",
          "data": {
            "image/png": "[encoded data removed]",
            "text/plain": [
              "<Figure size 1440x1080 with 16 Axes>"
            ]
          },
          "metadata": {
            "tags": [],
            "needs_background": "light"
          }
        }
      ]
    },
    {
      "cell_type": "code",
      "metadata": {
        "id": "-jWo_9ej1tp_",
        "colab_type": "code",
        "colab": {}
      },
      "source": [
        "# Split the data into training/test sets (80/20)\n",
        "from sklearn.model_selection import train_test_split\n",
        "train_set, test_set = train_test_split(housing, test_size=0.2, random_state=SEED)"
      ],
      "execution_count": 1251,
      "outputs": []
    },
    {
      "cell_type": "code",
      "metadata": {
        "id": "nFY2x8dX6ODj",
        "colab_type": "code",
        "colab": {
          "base_uri": "https://localhost:8080/",
          "height": 51
        },
        "outputId": "a1420818-3716-4b3c-bef6-6b24635221fd"
      },
      "source": [
        "# Verify training and test set sizes\n",
        "print(train_set.shape) # 404/505 = 80%\n",
        "print(test_set.shape)  # 102/505 = 20%"
      ],
      "execution_count": 1252,
      "outputs": [
        {
          "output_type": "stream",
          "text": [
            "(404, 14)\n",
            "(102, 14)\n"
          ],
          "name": "stdout"
        }
      ]
    },
    {
      "cell_type": "code",
      "metadata": {
        "id": "vJb6p1IR7Paj",
        "colab_type": "code",
        "colab": {}
      },
      "source": [
        "# Transform LSTAT atrribute to divide bins into a more bell-shaped distribution\n",
        "housing['LSTAT_cat'] = pd.cut(housing['LSTAT'],\n",
        "                               bins=[0., 4.0, 7.0, 15.0, 20., np.inf],\n",
        "                               labels=[1, 2, 3, 4, 5])"
      ],
      "execution_count": 1253,
      "outputs": []
    },
    {
      "cell_type": "code",
      "metadata": {
        "id": "bBOCUz9oSCZZ",
        "colab_type": "code",
        "colab": {
          "base_uri": "https://localhost:8080/",
          "height": 119
        },
        "outputId": "c54cadc6-a0f9-4374-c0f4-d72e701f738a"
      },
      "source": [
        "housing['LSTAT_cat'].value_counts()"
      ],
      "execution_count": 1254,
      "outputs": [
        {
          "output_type": "execute_result",
          "data": {
            "text/plain": [
              "3    217\n",
              "2     94\n",
              "4     88\n",
              "5     74\n",
              "1     33\n",
              "Name: LSTAT_cat, dtype: int64"
            ]
          },
          "metadata": {
            "tags": []
          },
          "execution_count": 1254
        }
      ]
    },
    {
      "cell_type": "code",
      "metadata": {
        "id": "_kRJns3CSYP-",
        "colab_type": "code",
        "colab": {
          "base_uri": "https://localhost:8080/",
          "height": 282
        },
        "outputId": "af1e4371-f959-4ae3-82ea-40336776007c"
      },
      "source": [
        "housing[\"LSTAT_cat\"].hist()"
      ],
      "execution_count": 1255,
      "outputs": [
        {
          "output_type": "execute_result",
          "data": {
            "text/plain": [
              "<matplotlib.axes._subplots.AxesSubplot at 0x7f59f8db6588>"
            ]
          },
          "metadata": {
            "tags": []
          },
          "execution_count": 1255
        },
        {
          "output_type": "display_data",
          "data": {
            "image/png": "[encoded data removed]",
            "text/plain": [
              "<Figure size 432x288 with 1 Axes>"
            ]
          },
          "metadata": {
            "tags": [],
            "needs_background": "light"
          }
        }
      ]
    },
    {
      "cell_type": "code",
      "metadata": {
        "id": "kQm-veRoTtMQ",
        "colab_type": "code",
        "colab": {}
      },
      "source": [
        "from sklearn.model_selection import StratifiedShuffleSplit\n",
        "\n",
        "split = StratifiedShuffleSplit(n_splits=1, test_size=0.2, random_state=SEED)\n",
        "for train_index, test_index in split.split(housing, housing[\"LSTAT_cat\"]):\n",
        "    strat_train_set = housing.loc[train_index]\n",
        "    strat_test_set = housing.loc[test_index]"
      ],
      "execution_count": 1256,
      "outputs": []
    },
    {
      "cell_type": "code",
      "metadata": {
        "id": "fKeb244DVKpI",
        "colab_type": "code",
        "colab": {
          "base_uri": "https://localhost:8080/",
          "height": 119
        },
        "outputId": "9a3655dd-d84a-47a0-97b9-19d41adb7f1e"
      },
      "source": [
        "strat_test_set[\"LSTAT_cat\"].value_counts() / len(strat_test_set)"
      ],
      "execution_count": 1257,
      "outputs": [
        {
          "output_type": "execute_result",
          "data": {
            "text/plain": [
              "3    0.431373\n",
              "2    0.186275\n",
              "4    0.176471\n",
              "5    0.147059\n",
              "1    0.058824\n",
              "Name: LSTAT_cat, dtype: float64"
            ]
          },
          "metadata": {
            "tags": []
          },
          "execution_count": 1257
        }
      ]
    },
    {
      "cell_type": "code",
      "metadata": {
        "id": "pWziFFeJVP3a",
        "colab_type": "code",
        "colab": {
          "base_uri": "https://localhost:8080/",
          "height": 119
        },
        "outputId": "e26079f1-3d55-4a51-8b7e-df349c6254a6"
      },
      "source": [
        "housing[\"LSTAT_cat\"].value_counts() / len(housing)"
      ],
      "execution_count": 1258,
      "outputs": [
        {
          "output_type": "execute_result",
          "data": {
            "text/plain": [
              "3    0.428854\n",
              "2    0.185771\n",
              "4    0.173913\n",
              "5    0.146245\n",
              "1    0.065217\n",
              "Name: LSTAT_cat, dtype: float64"
            ]
          },
          "metadata": {
            "tags": []
          },
          "execution_count": 1258
        }
      ]
    },
    {
      "cell_type": "markdown",
      "metadata": {
        "id": "GpfqmgsJdMLh",
        "colab_type": "text"
      },
      "source": [
        "This verifies that the stratified sampling of the dataset worked."
      ]
    },
    {
      "cell_type": "markdown",
      "metadata": {
        "id": "i2F5GMduZQRU",
        "colab_type": "text"
      },
      "source": [
        "# 3. Discovering and Visualizing the Data"
      ]
    },
    {
      "cell_type": "code",
      "metadata": {
        "id": "WpUQAmSTVYlK",
        "colab_type": "code",
        "colab": {}
      },
      "source": [
        "# drop this feature now that we have stratified the dataset\n",
        "for set_ in (strat_train_set, strat_test_set):\n",
        "    set_.drop(\"LSTAT_cat\", axis = 1, inplace=True)"
      ],
      "execution_count": 1259,
      "outputs": []
    },
    {
      "cell_type": "code",
      "metadata": {
        "id": "hQdxUetmWZsm",
        "colab_type": "code",
        "colab": {}
      },
      "source": [
        "# Make a copy of the stratified train set\n",
        "housing = strat_train_set.copy()"
      ],
      "execution_count": 1260,
      "outputs": []
    },
    {
      "cell_type": "code",
      "metadata": {
        "id": "nu7zvtM2XhIZ",
        "colab_type": "code",
        "colab": {
          "base_uri": "https://localhost:8080/",
          "height": 272
        },
        "outputId": "00b44c22-e4d5-4fcb-c22a-48b834a944d0"
      },
      "source": [
        "# Use corr() to see the correlations among the features of the dataset\n",
        "corr_matrix = housing.corr()\n",
        "corr_matrix[\"MEDV\"].sort_values(ascending=False)"
      ],
      "execution_count": 1261,
      "outputs": [
        {
          "output_type": "execute_result",
          "data": {
            "text/plain": [
              "MEDV       1.000000\n",
              "RM         0.667598\n",
              "ZN         0.352569\n",
              "B          0.325143\n",
              "DIS        0.258584\n",
              "CHAS       0.169955\n",
              "RAD       -0.371645\n",
              "CRIM      -0.375627\n",
              "AGE       -0.397733\n",
              "NOX       -0.450178\n",
              "TAX       -0.463463\n",
              "INDUS     -0.483738\n",
              "PTRATIO   -0.499172\n",
              "LSTAT     -0.745984\n",
              "Name: MEDV, dtype: float64"
            ]
          },
          "metadata": {
            "tags": []
          },
          "execution_count": 1261
        }
      ]
    },
    {
      "cell_type": "code",
      "metadata": {
        "id": "Oxaz6DXDXu2x",
        "colab_type": "code",
        "colab": {
          "base_uri": "https://localhost:8080/",
          "height": 296
        },
        "outputId": "b375a376-e374-4376-82fe-2a6c43733a5c"
      },
      "source": [
        "housing.plot(kind=\"scatter\", x=\"RM\", y=\"MEDV\", alpha=0.5)"
      ],
      "execution_count": 1262,
      "outputs": [
        {
          "output_type": "execute_result",
          "data": {
            "text/plain": [
              "<matplotlib.axes._subplots.AxesSubplot at 0x7f59f7d3c0b8>"
            ]
          },
          "metadata": {
            "tags": []
          },
          "execution_count": 1262
        },
        {
          "output_type": "display_data",
          "data": {
            "image/png": "[encoded data removed]",
            "text/plain": [
              "<Figure size 432x288 with 1 Axes>"
            ]
          },
          "metadata": {
            "tags": [],
            "needs_background": "light"
          }
        }
      ]
    },
    {
      "cell_type": "code",
      "metadata": {
        "id": "CSb0X-l0Zu1_",
        "colab_type": "code",
        "colab": {
          "base_uri": "https://localhost:8080/",
          "height": 296
        },
        "outputId": "5d1e302b-458b-4d48-e73a-f38ace84bef5"
      },
      "source": [
        "housing.plot(kind=\"scatter\", x=\"LSTAT\", y=\"MEDV\", alpha=0.5)"
      ],
      "execution_count": 1263,
      "outputs": [
        {
          "output_type": "execute_result",
          "data": {
            "text/plain": [
              "<matplotlib.axes._subplots.AxesSubplot at 0x7f59f7e66a20>"
            ]
          },
          "metadata": {
            "tags": []
          },
          "execution_count": 1263
        },
        {
          "output_type": "display_data",
          "data": {
            "image/png": "[encoded data removed]",
            "text/plain": [
              "<Figure size 432x288 with 1 Axes>"
            ]
          },
          "metadata": {
            "tags": [],
            "needs_background": "light"
          }
        }
      ]
    },
    {
      "cell_type": "markdown",
      "metadata": {
        "id": "sIRIASc1AZl1",
        "colab_type": "text"
      },
      "source": [
        "Drop a couple of features."
      ]
    },
    {
      "cell_type": "code",
      "metadata": {
        "id": "VzIsV1a8_Sp_",
        "colab_type": "code",
        "colab": {}
      },
      "source": [
        "housing = housing.drop(\"CHAS\", axis=1)\n",
        "housing = housing.drop(\"B\", axis=1)"
      ],
      "execution_count": 1264,
      "outputs": []
    },
    {
      "cell_type": "markdown",
      "metadata": {
        "id": "5Dt1-exZdzyv",
        "colab_type": "text"
      },
      "source": [
        "## Feature Engineering - add new features to dataset"
      ]
    },
    {
      "cell_type": "code",
      "metadata": {
        "id": "fSbB1h23AvJu",
        "colab_type": "code",
        "colab": {}
      },
      "source": [
        "housing[\"LSTAT_weighted_PTRATIO\"] = housing[\"PTRATIO\"] / housing[\"LSTAT\"]\n",
        "housing[\"LSTAT_weighted_RM\"] = housing[\"RM\"] / housing[\"LSTAT\"]\n",
        "housing[\"CRIM_weighted_TAX\"] = housing[\"TAX\"] / housing[\"CRIM\"]"
      ],
      "execution_count": 1265,
      "outputs": []
    },
    {
      "cell_type": "code",
      "metadata": {
        "id": "Cq4tawFvBHwr",
        "colab_type": "code",
        "colab": {
          "base_uri": "https://localhost:8080/",
          "height": 317
        },
        "outputId": "41cf1d6e-e1dd-438a-85e8-301de8948e46"
      },
      "source": [
        "housing.describe()"
      ],
      "execution_count": 1266,
      "outputs": [
        {
          "output_type": "execute_result",
          "data": {
            "text/html": [
              "<div>\n",
              "<style scoped>\n",
              "    .dataframe tbody tr th:only-of-type {\n",
              "        vertical-align: middle;\n",
              "    }\n",
              "\n",
              "    .dataframe tbody tr th {\n",
              "        vertical-align: top;\n",
              "    }\n",
              "\n",
              "    .dataframe thead th {\n",
              "        text-align: right;\n",
              "    }\n",
              "</style>\n",
              "<table border=\"1\" class=\"dataframe\">\n",
              "  <thead>\n",
              "    <tr style=\"text-align: right;\">\n",
              "      <th></th>\n",
              "      <th>CRIM</th>\n",
              "      <th>ZN</th>\n",
              "      <th>INDUS</th>\n",
              "      <th>NOX</th>\n",
              "      <th>RM</th>\n",
              "      <th>AGE</th>\n",
              "      <th>DIS</th>\n",
              "      <th>RAD</th>\n",
              "      <th>TAX</th>\n",
              "      <th>PTRATIO</th>\n",
              "      <th>LSTAT</th>\n",
              "      <th>MEDV</th>\n",
              "      <th>LSTAT_weighted_PTRATIO</th>\n",
              "      <th>LSTAT_weighted_RM</th>\n",
              "      <th>CRIM_weighted_TAX</th>\n",
              "    </tr>\n",
              "  </thead>\n",
              "  <tbody>\n",
              "    <tr>\n",
              "      <th>count</th>\n",
              "      <td>404.000000</td>\n",
              "      <td>404.000000</td>\n",
              "      <td>404.000000</td>\n",
              "      <td>404.000000</td>\n",
              "      <td>404.000000</td>\n",
              "      <td>404.000000</td>\n",
              "      <td>404.000000</td>\n",
              "      <td>404.000000</td>\n",
              "      <td>404.000000</td>\n",
              "      <td>404.000000</td>\n",
              "      <td>404.000000</td>\n",
              "      <td>404.000000</td>\n",
              "      <td>404.000000</td>\n",
              "      <td>404.000000</td>\n",
              "      <td>404.000000</td>\n",
              "    </tr>\n",
              "    <tr>\n",
              "      <th>mean</th>\n",
              "      <td>3.356037</td>\n",
              "      <td>10.909653</td>\n",
              "      <td>11.318837</td>\n",
              "      <td>0.556034</td>\n",
              "      <td>6.289715</td>\n",
              "      <td>68.472772</td>\n",
              "      <td>3.760481</td>\n",
              "      <td>9.504950</td>\n",
              "      <td>409.930693</td>\n",
              "      <td>18.447525</td>\n",
              "      <td>12.607748</td>\n",
              "      <td>22.519802</td>\n",
              "      <td>2.019761</td>\n",
              "      <td>0.746827</td>\n",
              "      <td>2932.263553</td>\n",
              "    </tr>\n",
              "    <tr>\n",
              "      <th>std</th>\n",
              "      <td>7.605366</td>\n",
              "      <td>22.748051</td>\n",
              "      <td>6.944661</td>\n",
              "      <td>0.115756</td>\n",
              "      <td>0.707568</td>\n",
              "      <td>28.136432</td>\n",
              "      <td>2.090573</td>\n",
              "      <td>8.718793</td>\n",
              "      <td>168.621223</td>\n",
              "      <td>2.194267</td>\n",
              "      <td>7.180146</td>\n",
              "      <td>9.165482</td>\n",
              "      <td>1.268280</td>\n",
              "      <td>0.590564</td>\n",
              "      <td>4905.805024</td>\n",
              "    </tr>\n",
              "    <tr>\n",
              "      <th>min</th>\n",
              "      <td>0.006320</td>\n",
              "      <td>0.000000</td>\n",
              "      <td>0.460000</td>\n",
              "      <td>0.385000</td>\n",
              "      <td>3.561000</td>\n",
              "      <td>2.900000</td>\n",
              "      <td>1.129600</td>\n",
              "      <td>1.000000</td>\n",
              "      <td>187.000000</td>\n",
              "      <td>12.600000</td>\n",
              "      <td>1.730000</td>\n",
              "      <td>5.600000</td>\n",
              "      <td>0.497799</td>\n",
              "      <td>0.108981</td>\n",
              "      <td>7.485148</td>\n",
              "    </tr>\n",
              "    <tr>\n",
              "      <th>25%</th>\n",
              "      <td>0.082155</td>\n",
              "      <td>0.000000</td>\n",
              "      <td>5.190000</td>\n",
              "      <td>0.449000</td>\n",
              "      <td>5.890500</td>\n",
              "      <td>44.850000</td>\n",
              "      <td>2.097050</td>\n",
              "      <td>4.000000</td>\n",
              "      <td>283.250000</td>\n",
              "      <td>16.900000</td>\n",
              "      <td>6.915000</td>\n",
              "      <td>16.500000</td>\n",
              "      <td>1.157561</td>\n",
              "      <td>0.360021</td>\n",
              "      <td>155.503987</td>\n",
              "    </tr>\n",
              "    <tr>\n",
              "      <th>50%</th>\n",
              "      <td>0.262660</td>\n",
              "      <td>0.000000</td>\n",
              "      <td>9.690000</td>\n",
              "      <td>0.538000</td>\n",
              "      <td>6.209000</td>\n",
              "      <td>76.700000</td>\n",
              "      <td>3.100850</td>\n",
              "      <td>5.000000</td>\n",
              "      <td>335.000000</td>\n",
              "      <td>19.100000</td>\n",
              "      <td>10.990000</td>\n",
              "      <td>21.200000</td>\n",
              "      <td>1.653616</td>\n",
              "      <td>0.557376</td>\n",
              "      <td>1300.173068</td>\n",
              "    </tr>\n",
              "    <tr>\n",
              "      <th>75%</th>\n",
              "      <td>3.594927</td>\n",
              "      <td>12.500000</td>\n",
              "      <td>18.100000</td>\n",
              "      <td>0.624000</td>\n",
              "      <td>6.643750</td>\n",
              "      <td>94.300000</td>\n",
              "      <td>5.234500</td>\n",
              "      <td>24.000000</td>\n",
              "      <td>666.000000</td>\n",
              "      <td>20.200000</td>\n",
              "      <td>16.910000</td>\n",
              "      <td>25.000000</td>\n",
              "      <td>2.547773</td>\n",
              "      <td>0.938682</td>\n",
              "      <td>3552.426758</td>\n",
              "    </tr>\n",
              "    <tr>\n",
              "      <th>max</th>\n",
              "      <td>88.976200</td>\n",
              "      <td>100.000000</td>\n",
              "      <td>27.740000</td>\n",
              "      <td>0.871000</td>\n",
              "      <td>8.780000</td>\n",
              "      <td>100.000000</td>\n",
              "      <td>12.126500</td>\n",
              "      <td>24.000000</td>\n",
              "      <td>711.000000</td>\n",
              "      <td>22.000000</td>\n",
              "      <td>37.970000</td>\n",
              "      <td>50.000000</td>\n",
              "      <td>9.242424</td>\n",
              "      <td>4.328902</td>\n",
              "      <td>46835.443038</td>\n",
              "    </tr>\n",
              "  </tbody>\n",
              "</table>\n",
              "</div>"
            ],
            "text/plain": [
              "             CRIM          ZN  ...  LSTAT_weighted_RM  CRIM_weighted_TAX\n",
              "count  404.000000  404.000000  ...         404.000000         404.000000\n",
              "mean     3.356037   10.909653  ...           0.746827        2932.263553\n",
              "std      7.605366   22.748051  ...           0.590564        4905.805024\n",
              "min      0.006320    0.000000  ...           0.108981           7.485148\n",
              "25%      0.082155    0.000000  ...           0.360021         155.503987\n",
              "50%      0.262660    0.000000  ...           0.557376        1300.173068\n",
              "75%      3.594927   12.500000  ...           0.938682        3552.426758\n",
              "max     88.976200  100.000000  ...           4.328902       46835.443038\n",
              "\n",
              "[8 rows x 15 columns]"
            ]
          },
          "metadata": {
            "tags": []
          },
          "execution_count": 1266
        }
      ]
    },
    {
      "cell_type": "code",
      "metadata": {
        "id": "jyA6qVVNBPHE",
        "colab_type": "code",
        "colab": {
          "base_uri": "https://localhost:8080/",
          "height": 289
        },
        "outputId": "84ff3e44-c8fc-4eef-abd4-8029a88fd2db"
      },
      "source": [
        "corr_matrix = housing.corr()\n",
        "corr_matrix[\"MEDV\"].sort_values(ascending=False)"
      ],
      "execution_count": 1267,
      "outputs": [
        {
          "output_type": "execute_result",
          "data": {
            "text/plain": [
              "MEDV                      1.000000\n",
              "LSTAT_weighted_RM         0.815510\n",
              "LSTAT_weighted_PTRATIO    0.755180\n",
              "RM                        0.667598\n",
              "ZN                        0.352569\n",
              "DIS                       0.258584\n",
              "CRIM_weighted_TAX         0.244001\n",
              "RAD                      -0.371645\n",
              "CRIM                     -0.375627\n",
              "AGE                      -0.397733\n",
              "NOX                      -0.450178\n",
              "TAX                      -0.463463\n",
              "INDUS                    -0.483738\n",
              "PTRATIO                  -0.499172\n",
              "LSTAT                    -0.745984\n",
              "Name: MEDV, dtype: float64"
            ]
          },
          "metadata": {
            "tags": []
          },
          "execution_count": 1267
        }
      ]
    },
    {
      "cell_type": "code",
      "metadata": {
        "id": "ZBsWFVWoBgwN",
        "colab_type": "code",
        "colab": {
          "base_uri": "https://localhost:8080/",
          "height": 280
        },
        "outputId": "926c2db9-06fb-4c6f-d541-2175ca4d1ce1"
      },
      "source": [
        "housing.plot(kind=\"scatter\", x=\"LSTAT_weighted_RM\", y=\"MEDV\", alpha=0.2)\n",
        "plt.show()"
      ],
      "execution_count": 1268,
      "outputs": [
        {
          "output_type": "display_data",
          "data": {
            "image/png": "[encoded data removed]",
            "text/plain": [
              "<Figure size 432x288 with 1 Axes>"
            ]
          },
          "metadata": {
            "tags": [],
            "needs_background": "light"
          }
        }
      ]
    },
    {
      "cell_type": "code",
      "metadata": {
        "id": "vsUOXUOLex9V",
        "colab_type": "code",
        "colab": {
          "base_uri": "https://localhost:8080/",
          "height": 280
        },
        "outputId": "5da2a84a-baed-48e3-8acc-a58636133095"
      },
      "source": [
        "housing.plot(kind=\"scatter\", x=\"LSTAT_weighted_PTRATIO\", y=\"MEDV\", alpha=0.2)\n",
        "plt.show()"
      ],
      "execution_count": 1269,
      "outputs": [
        {
          "output_type": "display_data",
          "data": {
            "image/png": "[encoded data removed]",
            "text/plain": [
              "<Figure size 432x288 with 1 Axes>"
            ]
          },
          "metadata": {
            "tags": [],
            "needs_background": "light"
          }
        }
      ]
    },
    {
      "cell_type": "code",
      "metadata": {
        "id": "ZpVAWPwme3bZ",
        "colab_type": "code",
        "colab": {
          "base_uri": "https://localhost:8080/",
          "height": 280
        },
        "outputId": "86afd661-4f87-4697-d0fd-f0fd459dd5be"
      },
      "source": [
        "housing.plot(kind=\"scatter\", x=\"CRIM_weighted_TAX\", y=\"MEDV\", alpha = 0.2)\n",
        "plt.show()"
      ],
      "execution_count": 1270,
      "outputs": [
        {
          "output_type": "display_data",
          "data": {
            "image/png": "[encoded data removed]",
            "text/plain": [
              "<Figure size 432x288 with 1 Axes>"
            ]
          },
          "metadata": {
            "tags": [],
            "needs_background": "light"
          }
        }
      ]
    },
    {
      "cell_type": "markdown",
      "metadata": {
        "id": "w_Sx9bJVBolW",
        "colab_type": "text"
      },
      "source": [
        "It seems that these added features could useful based on these graphs."
      ]
    },
    {
      "cell_type": "markdown",
      "metadata": {
        "id": "udPm195wfL6d",
        "colab_type": "text"
      },
      "source": [
        "Drop the features we just added now and let the pipeline add them in automatically later in the next section."
      ]
    },
    {
      "cell_type": "code",
      "metadata": {
        "id": "bsCf831pfI9w",
        "colab_type": "code",
        "colab": {}
      },
      "source": [
        "housing = housing.drop(\"LSTAT_weighted_PTRATIO\", axis=1)\n",
        "housing = housing.drop(\"LSTAT_weighted_RM\", axis=1)\n",
        "housing = housing.drop(\"CRIM_weighted_TAX\", axis=1)"
      ],
      "execution_count": 1271,
      "outputs": []
    },
    {
      "cell_type": "markdown",
      "metadata": {
        "id": "cqggKrlUa9TR",
        "colab_type": "text"
      },
      "source": [
        "# 4. Data Cleaning"
      ]
    },
    {
      "cell_type": "code",
      "metadata": {
        "id": "3li4snjQaa63",
        "colab_type": "code",
        "colab": {}
      },
      "source": [
        "# Create the features and labels for training\n",
        "housing = strat_train_set.drop(\"MEDV\", axis=1) # drop labels for training set\n",
        "housing_labels = strat_train_set[\"MEDV\"].copy()"
      ],
      "execution_count": 1272,
      "outputs": []
    },
    {
      "cell_type": "code",
      "metadata": {
        "id": "_XFwMRHqDUU3",
        "colab_type": "code",
        "colab": {}
      },
      "source": [
        "from sklearn.base import BaseEstimator, TransformerMixin\n",
        "\n",
        "crim_idx, rm_idx, tax_idx, ptratio_idx, lstat_idx, = 0, 4, 8, 9, 10\n",
        "\n",
        "class CombinedAttributesAdder(BaseEstimator, TransformerMixin):\n",
        "    def __init__(self, add_lstat_weighted_rm = True): # no *args or **kargs\n",
        "        self.add_lstat_weighted_rm = add_lstat_weighted_rm\n",
        "    def fit(self, X, y=None):\n",
        "        return self  # nothing else to do\n",
        "    def transform(self, X, y=None):\n",
        "        if (self.add_lstat_weighted_rm):\n",
        "          lstat_weighted_ptratio = X[:, ptratio_idx] / X[:, lstat_idx]\n",
        "          lstat_weighted_rm = X[:, rm_idx] / X[:, lstat_idx]\n",
        "          crim_weighted_tax = X[:, tax_idx] / X[:, crim_idx]\n",
        "          return np.c_[X, lstat_weighted_ptratio, lstat_weighted_rm, crim_weighted_tax]\n",
        "        else:\n",
        "          return np.c_[X]\n",
        "\n",
        "# When set to false, that features will not be added\n",
        "attr_adder = CombinedAttributesAdder(add_lstat_weighted_rm=True)\n",
        "housing_extra_attribs = attr_adder.transform(housing.values)"
      ],
      "execution_count": 1273,
      "outputs": []
    },
    {
      "cell_type": "markdown",
      "metadata": {
        "id": "hUjp6rbtvHQA",
        "colab_type": "text"
      },
      "source": [
        "Create a data pipeline:"
      ]
    },
    {
      "cell_type": "code",
      "metadata": {
        "id": "26wqHABwbT7q",
        "colab_type": "code",
        "colab": {}
      },
      "source": [
        "from sklearn.pipeline import Pipeline\n",
        "from sklearn.impute import SimpleImputer\n",
        "from sklearn.preprocessing import StandardScaler\n",
        "pipeline = Pipeline([\n",
        "        ('imputer', SimpleImputer(strategy=\"median\")),\n",
        "        ('attribs_adder', CombinedAttributesAdder()), # include added features\n",
        "        ('std_scaler', StandardScaler()),\n",
        "    ])\n",
        "\n",
        "housing_prepared = pipeline.fit_transform(housing)"
      ],
      "execution_count": 1274,
      "outputs": []
    },
    {
      "cell_type": "code",
      "metadata": {
        "id": "Saf-WcaslMef",
        "colab_type": "code",
        "colab": {
          "base_uri": "https://localhost:8080/",
          "height": 238
        },
        "outputId": "a623cc19-c25a-42eb-b828-0a1915f9e5b4"
      },
      "source": [
        "housing_prepared"
      ],
      "execution_count": 1275,
      "outputs": [
        {
          "output_type": "execute_result",
          "data": {
            "text/plain": [
              "array([[ 2.82330326, -0.48018094,  0.97766779, ...,  1.39349944,\n",
              "         0.51693074, -0.72321618],\n",
              "       [ 0.61038378, -0.48018094,  0.97766779, ...,  1.39349944,\n",
              "         0.56368646, -0.67989113],\n",
              "       [-0.11971606, -0.48018094,  1.19104538, ...,  0.68487372,\n",
              "         3.88257008, -0.70031176],\n",
              "       ...,\n",
              "       [-0.43438648, -0.48018094,  0.21787054, ..., -0.09725239,\n",
              "        -0.95885692,  1.14144842],\n",
              "       [-0.43143754,  3.0409644 , -0.91822097, ..., -1.18442812,\n",
              "        -1.22367614,  0.33599136],\n",
              "       [-0.42973663, -0.48018094, -1.04797762, ..., -0.53759425,\n",
              "         0.03335911,  0.41593573]])"
            ]
          },
          "metadata": {
            "tags": []
          },
          "execution_count": 1275
        }
      ]
    },
    {
      "cell_type": "code",
      "metadata": {
        "id": "8QXCKy-2lsdD",
        "colab_type": "code",
        "colab": {
          "base_uri": "https://localhost:8080/",
          "height": 34
        },
        "outputId": "51aeb0a4-4f19-44aa-837f-932296ea5ebb"
      },
      "source": [
        "# Make sure it is the right amount of rows and columns - (404, 16) expected\n",
        "print(housing_prepared.shape)"
      ],
      "execution_count": 1276,
      "outputs": [
        {
          "output_type": "stream",
          "text": [
            "(404, 16)\n"
          ],
          "name": "stdout"
        }
      ]
    },
    {
      "cell_type": "markdown",
      "metadata": {
        "id": "z9fTbvYZn2bv",
        "colab_type": "text"
      },
      "source": [
        "# 5. Selecting and Training a Model"
      ]
    },
    {
      "cell_type": "markdown",
      "metadata": {
        "id": "1mSOdseoseH1",
        "colab_type": "text"
      },
      "source": [
        "## Simple Linear Regression Model"
      ]
    },
    {
      "cell_type": "code",
      "metadata": {
        "id": "hmDcwiFInPTR",
        "colab_type": "code",
        "colab": {
          "base_uri": "https://localhost:8080/",
          "height": 34
        },
        "outputId": "58df3b26-c847-4807-e536-065f9d753a41"
      },
      "source": [
        "from sklearn.linear_model import LinearRegression\n",
        "\n",
        "lin_reg = LinearRegression()\n",
        "lin_reg.fit(housing_prepared, housing_labels)"
      ],
      "execution_count": 1277,
      "outputs": [
        {
          "output_type": "execute_result",
          "data": {
            "text/plain": [
              "LinearRegression(copy_X=True, fit_intercept=True, n_jobs=None, normalize=False)"
            ]
          },
          "metadata": {
            "tags": []
          },
          "execution_count": 1277
        }
      ]
    },
    {
      "cell_type": "code",
      "metadata": {
        "id": "RX60Zcvhrhi3",
        "colab_type": "code",
        "colab": {
          "base_uri": "https://localhost:8080/",
          "height": 34
        },
        "outputId": "71ad8be4-f845-4a2a-c28e-721ba4d3c1c4"
      },
      "source": [
        "from sklearn.metrics import mean_squared_error\n",
        "\n",
        "housing_predictions = lin_reg.predict(housing_prepared)\n",
        "lin_mse = mean_squared_error(housing_labels, housing_predictions)\n",
        "lin_rmse = np.sqrt(lin_mse)\n",
        "lin_rmse # This is the root mean square error measured in multiple of $1000s"
      ],
      "execution_count": 1278,
      "outputs": [
        {
          "output_type": "execute_result",
          "data": {
            "text/plain": [
              "4.670624425216965"
            ]
          },
          "metadata": {
            "tags": []
          },
          "execution_count": 1278
        }
      ]
    },
    {
      "cell_type": "markdown",
      "metadata": {
        "id": "EPsyN8_HtN4N",
        "colab_type": "text"
      },
      "source": [
        "Therefore, the RMSE error for the Linear Regression model is $4,813.64 (SEED=11)\n"
      ]
    },
    {
      "cell_type": "markdown",
      "metadata": {
        "id": "iGEotfllsYL6",
        "colab_type": "text"
      },
      "source": [
        "## Decision Tree Regressor"
      ]
    },
    {
      "cell_type": "code",
      "metadata": {
        "id": "WwzFIyk8rr3S",
        "colab_type": "code",
        "colab": {
          "base_uri": "https://localhost:8080/",
          "height": 119
        },
        "outputId": "27e19110-4808-464b-af03-3edd74400b01"
      },
      "source": [
        "from sklearn.tree import DecisionTreeRegressor\n",
        "\n",
        "tree_reg = DecisionTreeRegressor(random_state=SEED)\n",
        "tree_reg.fit(housing_prepared, housing_labels)"
      ],
      "execution_count": 1279,
      "outputs": [
        {
          "output_type": "execute_result",
          "data": {
            "text/plain": [
              "DecisionTreeRegressor(ccp_alpha=0.0, criterion='mse', max_depth=None,\n",
              "                      max_features=None, max_leaf_nodes=None,\n",
              "                      min_impurity_decrease=0.0, min_impurity_split=None,\n",
              "                      min_samples_leaf=1, min_samples_split=2,\n",
              "                      min_weight_fraction_leaf=0.0, presort='deprecated',\n",
              "                      random_state=49, splitter='best')"
            ]
          },
          "metadata": {
            "tags": []
          },
          "execution_count": 1279
        }
      ]
    },
    {
      "cell_type": "markdown",
      "metadata": {
        "id": "6pIku0gBtg0C",
        "colab_type": "text"
      },
      "source": [
        "Evaluate this model with 5-fold Cross Validation:"
      ]
    },
    {
      "cell_type": "code",
      "metadata": {
        "id": "9h3NR1U0tgJr",
        "colab_type": "code",
        "colab": {}
      },
      "source": [
        "from sklearn.model_selection import cross_val_score\n",
        "\n",
        "scores = cross_val_score(tree_reg, housing_prepared, housing_labels,\n",
        "                         scoring=\"neg_mean_squared_error\", cv=5)\n",
        "tree_rmse_scores = np.sqrt(-scores)"
      ],
      "execution_count": 1280,
      "outputs": []
    },
    {
      "cell_type": "code",
      "metadata": {
        "id": "HaAh_6DAt-9i",
        "colab_type": "code",
        "colab": {
          "base_uri": "https://localhost:8080/",
          "height": 68
        },
        "outputId": "09d76fd7-d0c1-43a2-8d2a-0d0d96dd1d5a"
      },
      "source": [
        "def display_scores(scores):\n",
        "    print(\"Scores:\", scores)\n",
        "    print(\"Mean:\", scores.mean())\n",
        "    print(\"Standard deviation:\", scores.std())\n",
        "\n",
        "display_scores(tree_rmse_scores)"
      ],
      "execution_count": 1281,
      "outputs": [
        {
          "output_type": "stream",
          "text": [
            "Scores: [5.78672384 3.64032626 4.18885942 6.02488666 4.53075601]\n",
            "Mean: 4.834310438153049\n",
            "Standard deviation: 0.9229207501304031\n"
          ],
          "name": "stdout"
        }
      ]
    },
    {
      "cell_type": "markdown",
      "metadata": {
        "id": "0sJ7DBKTJcXR",
        "colab_type": "text"
      },
      "source": [
        "Without tuning the parameters, the Decision Tree Regressor did not perform much better than the Linear Regression Model."
      ]
    },
    {
      "cell_type": "markdown",
      "metadata": {
        "id": "8n8YujfRuhVt",
        "colab_type": "text"
      },
      "source": [
        "## Random Forest Regressor"
      ]
    },
    {
      "cell_type": "code",
      "metadata": {
        "id": "xqjpqrtDuFhu",
        "colab_type": "code",
        "colab": {
          "base_uri": "https://localhost:8080/",
          "height": 136
        },
        "outputId": "12cbfc0b-e7c9-456a-865a-4f47ac24f5eb"
      },
      "source": [
        "from sklearn.ensemble import RandomForestRegressor\n",
        "\n",
        "forest_reg = RandomForestRegressor(n_estimators=100, random_state=SEED)\n",
        "forest_reg.fit(housing_prepared, housing_labels)"
      ],
      "execution_count": 1282,
      "outputs": [
        {
          "output_type": "execute_result",
          "data": {
            "text/plain": [
              "RandomForestRegressor(bootstrap=True, ccp_alpha=0.0, criterion='mse',\n",
              "                      max_depth=None, max_features='auto', max_leaf_nodes=None,\n",
              "                      max_samples=None, min_impurity_decrease=0.0,\n",
              "                      min_impurity_split=None, min_samples_leaf=1,\n",
              "                      min_samples_split=2, min_weight_fraction_leaf=0.0,\n",
              "                      n_estimators=100, n_jobs=None, oob_score=False,\n",
              "                      random_state=49, verbose=0, warm_start=False)"
            ]
          },
          "metadata": {
            "tags": []
          },
          "execution_count": 1282
        }
      ]
    },
    {
      "cell_type": "code",
      "metadata": {
        "id": "NMibnxc7upYt",
        "colab_type": "code",
        "colab": {
          "base_uri": "https://localhost:8080/",
          "height": 68
        },
        "outputId": "2ddb257b-1ce2-4e3d-fb87-73f6a6c8c150"
      },
      "source": [
        "forest_scores = cross_val_score(forest_reg, housing_prepared, housing_labels,\n",
        "                                scoring=\"neg_mean_squared_error\", cv=5)\n",
        "forest_rmse_scores = np.sqrt(-forest_scores)\n",
        "display_scores(forest_rmse_scores)"
      ],
      "execution_count": 1283,
      "outputs": [
        {
          "output_type": "stream",
          "text": [
            "Scores: [3.47976989 2.39423652 3.14428188 4.00342059 3.93433531]\n",
            "Mean: 3.391208838100577\n",
            "Standard deviation: 0.5886525919259382\n"
          ],
          "name": "stdout"
        }
      ]
    },
    {
      "cell_type": "markdown",
      "metadata": {
        "id": "2w8n75W4w5_z",
        "colab_type": "text"
      },
      "source": [
        "The Random Forest Regressor performed the best of the three models, without tuning the hyperparameters yet."
      ]
    },
    {
      "cell_type": "markdown",
      "metadata": {
        "id": "IU_g4BM1v8aK",
        "colab_type": "text"
      },
      "source": [
        "# 6. Fine Tuning the model"
      ]
    },
    {
      "cell_type": "markdown",
      "metadata": {
        "id": "YqTRs3AsNe8N",
        "colab_type": "text"
      },
      "source": [
        "Randomly search for best hyperparameters for 50 iterations (~ 1 min) and 5-fold cross validation:"
      ]
    },
    {
      "cell_type": "code",
      "metadata": {
        "id": "dV3HyhxHKpdV",
        "colab_type": "code",
        "colab": {
          "base_uri": "https://localhost:8080/",
          "height": 374
        },
        "outputId": "82c523b0-1e17-46ad-c183-809665a95a50"
      },
      "source": [
        "from sklearn.model_selection import RandomizedSearchCV\n",
        "from scipy.stats import randint\n",
        "\n",
        "param_distribs = {\n",
        "        'n_estimators': randint(low=1, high=300),\n",
        "        'max_features': randint(low=1, high=10),\n",
        "        'bootstrap': randint(low=0, high=1) # False or True\n",
        "    }\n",
        "\n",
        "forest_reg = RandomForestRegressor(random_state=SEED)\n",
        "rnd_search = RandomizedSearchCV(forest_reg, param_distributions=param_distribs,\n",
        "                                n_iter=50, cv=5, scoring='neg_mean_squared_error', random_state=SEED)\n",
        "rnd_search.fit(housing_prepared, housing_labels)"
      ],
      "execution_count": 1284,
      "outputs": [
        {
          "output_type": "execute_result",
          "data": {
            "text/plain": [
              "RandomizedSearchCV(cv=5, error_score=nan,\n",
              "                   estimator=RandomForestRegressor(bootstrap=True,\n",
              "                                                   ccp_alpha=0.0,\n",
              "                                                   criterion='mse',\n",
              "                                                   max_depth=None,\n",
              "                                                   max_features='auto',\n",
              "                                                   max_leaf_nodes=None,\n",
              "                                                   max_samples=None,\n",
              "                                                   min_impurity_decrease=0.0,\n",
              "                                                   min_impurity_split=None,\n",
              "                                                   min_samples_leaf=1,\n",
              "                                                   min_samples_split=2,\n",
              "                                                   min_weight_fraction_leaf=0.0,\n",
              "                                                   n_estimators=100,\n",
              "                                                   n_jobs=None, oob_score=Fals...\n",
              "                   param_distributions={'bootstrap': <scipy.stats._distn_infrastructure.rv_frozen object at 0x7f59f88205c0>,\n",
              "                                        'max_features': <scipy.stats._distn_infrastructure.rv_frozen object at 0x7f59f8820fd0>,\n",
              "                                        'n_estimators': <scipy.stats._distn_infrastructure.rv_frozen object at 0x7f59f8820748>},\n",
              "                   pre_dispatch='2*n_jobs', random_state=49, refit=True,\n",
              "                   return_train_score=False, scoring='neg_mean_squared_error',\n",
              "                   verbose=0)"
            ]
          },
          "metadata": {
            "tags": []
          },
          "execution_count": 1284
        }
      ]
    },
    {
      "cell_type": "code",
      "metadata": {
        "id": "CELmViuhD2LY",
        "colab_type": "code",
        "colab": {
          "base_uri": "https://localhost:8080/",
          "height": 867
        },
        "outputId": "89707c2f-5e5b-4014-9fb9-c5ae90c344b8"
      },
      "source": [
        "# print all iterations to see results\n",
        "cvres = rnd_search.cv_results_\n",
        "for mean_score, params in zip(cvres[\"mean_test_score\"], cvres[\"params\"]):\n",
        "    print(np.sqrt(-mean_score), params)"
      ],
      "execution_count": 1285,
      "outputs": [
        {
          "output_type": "stream",
          "text": [
            "3.3672281996671236 {'bootstrap': 0, 'max_features': 9, 'n_estimators': 183}\n",
            "3.291535000183419 {'bootstrap': 0, 'max_features': 5, 'n_estimators': 127}\n",
            "3.646026273109223 {'bootstrap': 0, 'max_features': 2, 'n_estimators': 147}\n",
            "3.2933372353176145 {'bootstrap': 0, 'max_features': 5, 'n_estimators': 141}\n",
            "3.994437810578882 {'bootstrap': 0, 'max_features': 1, 'n_estimators': 93}\n",
            "3.3519719459327106 {'bootstrap': 0, 'max_features': 9, 'n_estimators': 297}\n",
            "3.251263811823314 {'bootstrap': 0, 'max_features': 5, 'n_estimators': 205}\n",
            "3.2678789399921317 {'bootstrap': 0, 'max_features': 5, 'n_estimators': 288}\n",
            "3.306072977490666 {'bootstrap': 0, 'max_features': 6, 'n_estimators': 168}\n",
            "3.366874098752035 {'bootstrap': 0, 'max_features': 9, 'n_estimators': 162}\n",
            "3.318760545081672 {'bootstrap': 0, 'max_features': 7, 'n_estimators': 236}\n",
            "3.2560827892417454 {'bootstrap': 0, 'max_features': 5, 'n_estimators': 181}\n",
            "3.334414135343575 {'bootstrap': 0, 'max_features': 8, 'n_estimators': 227}\n",
            "3.343549548661203 {'bootstrap': 0, 'max_features': 4, 'n_estimators': 273}\n",
            "3.424362927783029 {'bootstrap': 0, 'max_features': 3, 'n_estimators': 186}\n",
            "3.33433139164449 {'bootstrap': 0, 'max_features': 8, 'n_estimators': 188}\n",
            "3.3868768088165817 {'bootstrap': 0, 'max_features': 9, 'n_estimators': 38}\n",
            "4.012070205049622 {'bootstrap': 0, 'max_features': 6, 'n_estimators': 4}\n",
            "3.4342602026867337 {'bootstrap': 0, 'max_features': 3, 'n_estimators': 136}\n",
            "3.5306221310576977 {'bootstrap': 0, 'max_features': 3, 'n_estimators': 59}\n",
            "3.4382669896716527 {'bootstrap': 0, 'max_features': 3, 'n_estimators': 262}\n",
            "3.3527226139620976 {'bootstrap': 0, 'max_features': 8, 'n_estimators': 50}\n",
            "3.2570959615418333 {'bootstrap': 0, 'max_features': 5, 'n_estimators': 168}\n",
            "3.44479960072285 {'bootstrap': 0, 'max_features': 3, 'n_estimators': 269}\n",
            "3.669057507309532 {'bootstrap': 0, 'max_features': 2, 'n_estimators': 100}\n",
            "3.3601332773541848 {'bootstrap': 0, 'max_features': 9, 'n_estimators': 244}\n",
            "3.2967521578592196 {'bootstrap': 0, 'max_features': 6, 'n_estimators': 176}\n",
            "3.318753738950871 {'bootstrap': 0, 'max_features': 7, 'n_estimators': 41}\n",
            "3.3815928876466153 {'bootstrap': 0, 'max_features': 9, 'n_estimators': 140}\n",
            "3.3377643587111483 {'bootstrap': 0, 'max_features': 8, 'n_estimators': 187}\n",
            "4.013205654147345 {'bootstrap': 0, 'max_features': 1, 'n_estimators': 160}\n",
            "3.3215451253025816 {'bootstrap': 0, 'max_features': 7, 'n_estimators': 210}\n",
            "3.344503766056941 {'bootstrap': 0, 'max_features': 8, 'n_estimators': 35}\n",
            "3.5358173524502696 {'bootstrap': 0, 'max_features': 3, 'n_estimators': 58}\n",
            "4.004437615232481 {'bootstrap': 0, 'max_features': 1, 'n_estimators': 157}\n",
            "3.356151562781664 {'bootstrap': 0, 'max_features': 4, 'n_estimators': 191}\n",
            "3.417709912644457 {'bootstrap': 0, 'max_features': 3, 'n_estimators': 192}\n",
            "3.998823116091953 {'bootstrap': 0, 'max_features': 1, 'n_estimators': 96}\n",
            "3.401193748990243 {'bootstrap': 0, 'max_features': 9, 'n_estimators': 78}\n",
            "3.418799881013829 {'bootstrap': 0, 'max_features': 3, 'n_estimators': 226}\n",
            "3.3648241244535435 {'bootstrap': 0, 'max_features': 7, 'n_estimators': 113}\n",
            "3.3789040937436026 {'bootstrap': 0, 'max_features': 4, 'n_estimators': 132}\n",
            "3.303776467177844 {'bootstrap': 0, 'max_features': 6, 'n_estimators': 161}\n",
            "3.307468464021992 {'bootstrap': 0, 'max_features': 7, 'n_estimators': 290}\n",
            "3.427145128088554 {'bootstrap': 0, 'max_features': 3, 'n_estimators': 202}\n",
            "3.3044793722777484 {'bootstrap': 0, 'max_features': 7, 'n_estimators': 267}\n",
            "3.692560198009709 {'bootstrap': 0, 'max_features': 3, 'n_estimators': 17}\n",
            "3.403943692198536 {'bootstrap': 0, 'max_features': 4, 'n_estimators': 91}\n",
            "3.3480069705952413 {'bootstrap': 0, 'max_features': 8, 'n_estimators': 52}\n",
            "3.614743678762502 {'bootstrap': 0, 'max_features': 2, 'n_estimators': 219}\n"
          ],
          "name": "stdout"
        }
      ]
    },
    {
      "cell_type": "code",
      "metadata": {
        "id": "VlpHOYqwP5AM",
        "colab_type": "code",
        "colab": {
          "base_uri": "https://localhost:8080/",
          "height": 136
        },
        "outputId": "47534110-5a0e-4d13-be68-b6effcd8cb0b"
      },
      "source": [
        "# display best estimator\n",
        "rnd_search.best_estimator_"
      ],
      "execution_count": 1286,
      "outputs": [
        {
          "output_type": "execute_result",
          "data": {
            "text/plain": [
              "RandomForestRegressor(bootstrap=0, ccp_alpha=0.0, criterion='mse',\n",
              "                      max_depth=None, max_features=5, max_leaf_nodes=None,\n",
              "                      max_samples=None, min_impurity_decrease=0.0,\n",
              "                      min_impurity_split=None, min_samples_leaf=1,\n",
              "                      min_samples_split=2, min_weight_fraction_leaf=0.0,\n",
              "                      n_estimators=205, n_jobs=None, oob_score=False,\n",
              "                      random_state=49, verbose=0, warm_start=False)"
            ]
          },
          "metadata": {
            "tags": []
          },
          "execution_count": 1286
        }
      ]
    },
    {
      "cell_type": "code",
      "metadata": {
        "id": "I8aBSjvpEhdr",
        "colab_type": "code",
        "colab": {
          "base_uri": "https://localhost:8080/",
          "height": 85
        },
        "outputId": "7454896d-b394-467f-a213-a7bfe9c5ab6b"
      },
      "source": [
        "# display importances for each feature\n",
        "feature_importances = rnd_search.best_estimator_.feature_importances_\n",
        "feature_importances # index corresponds to feature"
      ],
      "execution_count": 1287,
      "outputs": [
        {
          "output_type": "execute_result",
          "data": {
            "text/plain": [
              "array([0.03914488, 0.00259597, 0.0596625 , 0.00354227, 0.0587827 ,\n",
              "       0.31737333, 0.0205979 , 0.05238084, 0.00486431, 0.02606128,\n",
              "       0.05620484, 0.0155879 , 0.2636812 , 0.01216556, 0.03001885,\n",
              "       0.03733568])"
            ]
          },
          "metadata": {
            "tags": []
          },
          "execution_count": 1287
        }
      ]
    },
    {
      "cell_type": "markdown",
      "metadata": {
        "id": "ifhibf7sQEVw",
        "colab_type": "text"
      },
      "source": [
        "As predicted, LSTAT and RM have the most importance in predicting MEDV values. The added features also have relatively high importance. Now use these hyperameters for the final model:"
      ]
    },
    {
      "cell_type": "code",
      "metadata": {
        "id": "e16-SYf1MDkv",
        "colab_type": "code",
        "colab": {}
      },
      "source": [
        "final_model = rnd_search.best_estimator_\n",
        "\n",
        "X_test = strat_test_set.drop(\"MEDV\", axis=1)\n",
        "y_test = strat_test_set[\"MEDV\"].copy()\n",
        "\n",
        "X_test_prepared = pipeline.transform(X_test)\n",
        "final_predictions = final_model.predict(X_test_prepared)\n",
        "\n",
        "final_mse = mean_squared_error(y_test, final_predictions)\n",
        "final_rmse = np.sqrt(final_mse)"
      ],
      "execution_count": 1288,
      "outputs": []
    },
    {
      "cell_type": "markdown",
      "metadata": {
        "id": "urXUBVWsjD-w",
        "colab_type": "text"
      },
      "source": [
        "#7. Presenting the solution"
      ]
    },
    {
      "cell_type": "markdown",
      "metadata": {
        "id": "j_mqyZ99pu3N",
        "colab_type": "text"
      },
      "source": [
        "Display the final Root Mean Square Error for the model:"
      ]
    },
    {
      "cell_type": "code",
      "metadata": {
        "id": "hy3lZfM1pvWI",
        "colab_type": "code",
        "colab": {
          "base_uri": "https://localhost:8080/",
          "height": 34
        },
        "outputId": "4a0def09-1f27-442f-c7d0-14c4d26e0e75"
      },
      "source": [
        "final_rmse"
      ],
      "execution_count": 1289,
      "outputs": [
        {
          "output_type": "execute_result",
          "data": {
            "text/plain": [
              "2.5494244406981568"
            ]
          },
          "metadata": {
            "tags": []
          },
          "execution_count": 1289
        }
      ]
    },
    {
      "cell_type": "markdown",
      "metadata": {
        "id": "o4bC9wlMmsJp",
        "colab_type": "text"
      },
      "source": [
        "Also compute and display the Mean Absolute Error for model:"
      ]
    },
    {
      "cell_type": "code",
      "metadata": {
        "id": "nzTLXuZhjyjY",
        "colab_type": "code",
        "colab": {
          "base_uri": "https://localhost:8080/",
          "height": 34
        },
        "outputId": "e57953e9-2817-4e00-dbca-54cd70e2cf15"
      },
      "source": [
        "from sklearn.metrics import mean_absolute_error\n",
        "\n",
        "lin_mae = mean_absolute_error(y_test, final_predictions)\n",
        "lin_mae"
      ],
      "execution_count": 1290,
      "outputs": [
        {
          "output_type": "execute_result",
          "data": {
            "text/plain": [
              "1.8722333811573382"
            ]
          },
          "metadata": {
            "tags": []
          },
          "execution_count": 1290
        }
      ]
    },
    {
      "cell_type": "markdown",
      "metadata": {
        "id": "yMncns8XjQ-s",
        "colab_type": "text"
      },
      "source": [
        "The final RMSE error for my model ended up being 2.54942 (\\$2,549.42), and the final MAE error ended up to be 1.87223 (\\$1,872.23). Before tuning the hyperparameters, the RMSE for the best performing model (Random Forest Regressor with 5-fold Cross Validation) was 3.39121. This is a 24.8\\% decrease just from tuning the hyperparameters alone. These were tuned with a randomized deep search of the parameters over 50 iterations, which took the most computation time. Originally when evaluating the model I had not done any feature engineering – when I tried to add one feature at a time it did not perform as well as just the original features alone. Only when I combined all three of my proposed added features did the RMSE error begin to drop. I chose to manipulate features that were all highly correlated to the median house value (MEDV): RM, LSTAT, PTRATIO, TAX, and CRIM. After engineering these features the RMSE dropped another ~8\\%.\n",
        "\n",
        "Many assumptions were made from the dataset, such as choosing very different and specific features to predict housing values. There were also some other limitations in the data. From a relatively small dataset, the model didn't perform too poorly but it definitely could be improved with more data. My model didn't overfit the data because it performed better on the test set, and a better ML model could possibly lower the RMSE even more."
      ]
    }
  ]
}